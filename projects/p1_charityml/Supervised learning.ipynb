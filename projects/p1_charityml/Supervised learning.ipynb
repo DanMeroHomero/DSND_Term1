{
 "cells": [
  {
   "cell_type": "markdown",
   "metadata": {},
   "source": [
    "# Advantages and Disadvantages of SL Models\n",
    "\n",
    "It is importnat to understand how to choose a ML model for Supervised Leraing probles. Here is  cheat-shee for this.\n",
    "\n",
    "## Gausian Naive Bayes\n",
    "\n",
    "### Strenghts:\n",
    "\n",
    "* Simple and effcient\n",
    "* scalable\n",
    "* Goof in multicalss porblems\n",
    "\n",
    "### Disadvantages\n",
    "\n",
    "* Independence assupmtion does not always hold\n",
    "\n",
    "## Decision Trees"
   ]
  }
 ],
 "metadata": {
  "kernelspec": {
   "display_name": "Python 3",
   "language": "python",
   "name": "python3"
  },
  "language_info": {
   "codemirror_mode": {
    "name": "ipython",
    "version": 3
   },
   "file_extension": ".py",
   "mimetype": "text/x-python",
   "name": "python",
   "nbconvert_exporter": "python",
   "pygments_lexer": "ipython3",
   "version": "3.7.4"
  }
 },
 "nbformat": 4,
 "nbformat_minor": 2
}
